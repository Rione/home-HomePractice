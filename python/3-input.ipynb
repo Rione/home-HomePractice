{
 "cells": [
  {
   "cell_type": "markdown",
   "metadata": {},
   "source": [
    "# input\n",
    "\n",
    "`input()`関数は、入力から1行を読み込み、その結果を文字列として返します。"
   ]
  },
  {
   "cell_type": "markdown",
   "metadata": {},
   "source": [
    "## 文字列の入力"
   ]
  },
  {
   "cell_type": "code",
   "execution_count": null,
   "metadata": {},
   "outputs": [],
   "source": [
    "name = input(\"あなたの名前は?\")\n",
    "print(name + \"さん、こんにちは\")"
   ]
  },
  {
   "cell_type": "markdown",
   "metadata": {},
   "source": [
    "## 整数の入力\n",
    "`input()` 関数は入力された値を文字列として返します。\n",
    "`int()` を利用すると、文字列を整数に変換することが出来ます。\n",
    "これらを組み合わせると、入力された文字列を整数に変換して利用することができます。"
   ]
  },
  {
   "cell_type": "code",
   "execution_count": null,
   "metadata": {},
   "outputs": [],
   "source": [
    "multiplier = input(\"2を何倍しますか?\")\n",
    "multiplier = int(multiplier)  # 文字列 -> 整数\n",
    "print(2 * multiplier)"
   ]
  }
 ],
 "metadata": {
  "kernelspec": {
   "display_name": "Python 3 (ipykernel)",
   "language": "python",
   "name": "python3"
  },
  "language_info": {
   "codemirror_mode": {
    "name": "ipython",
    "version": 3
   },
   "file_extension": ".py",
   "mimetype": "text/x-python",
   "name": "python",
   "nbconvert_exporter": "python",
   "pygments_lexer": "ipython3",
   "version": "3.10.6"
  }
 },
 "nbformat": 4,
 "nbformat_minor": 1
}
