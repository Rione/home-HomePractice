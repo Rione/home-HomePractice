{
 "cells": [
  {
   "cell_type": "markdown",
   "id": "efe7cb96",
   "metadata": {},
   "source": [
    "# 制御構造\n",
    "\n",
    "プログラムは入力された値に応じて様々な処理を行います。制御構造を用いると条件分岐や反復処理などを実現できます。\n",
    "\n",
    "## if 文\n",
    "\n",
    "if 文は条件分岐を実現します。if 文は次のように書きます。\n",
    "\n",
    "```\n",
    "if 条件1:\n",
    "    条件1が成立した時の処理\n",
    "elif 条件2:\n",
    "    条件1は成立しなかったが, 条件2が成立した時の処理\n",
    "else:\n",
    "    条件1も条件2も成立しなかった時の処理\n",
    "```"
   ]
  },
  {
   "cell_type": "code",
   "execution_count": null,
   "id": "133c8748",
   "metadata": {},
   "outputs": [],
   "source": [
    "seiseki = 75\n",
    "\n",
    "if seiseki >= 90:\n",
    "    print(\"A+\")\n",
    "elif seiseki >= 80:\n",
    "    print(\"A\")\n",
    "elif seiseki >= 70:\n",
    "    print(\"B\")\n",
    "elif seiseki >= 60:\n",
    "    print(\"C\")\n",
    "else:\n",
    "    print(\"F\")"
   ]
  },
  {
   "cell_type": "markdown",
   "id": "aaad692d",
   "metadata": {},
   "source": [
    "条件が成立するとは条件の値が `True` であることを意味し、条件が成立しないとは条件の値が `False` であることを意味します。\n",
    "\n",
    "`>=` という演算子は真偽値 `True` または `False` を返すものです。他にも `==`、`!=`、`<`、`<=`、`>` のような**比較演算子**があります。\n",
    "\n",
    "上の例の条件の値を実際に見てみましょう。"
   ]
  },
  {
   "cell_type": "code",
   "execution_count": null,
   "id": "edd5fa18",
   "metadata": {},
   "outputs": [],
   "source": [
    "seiseki = 75\n",
    "\n",
    "print(seiseki >= 90)\n",
    "print(seiseki >= 80)\n",
    "print(seiseki >= 70)\n",
    "print(seiseki >= 60)"
   ]
  },
  {
   "cell_type": "markdown",
   "id": "562bbb0c",
   "metadata": {},
   "source": [
    "## for 文\n",
    "\n",
    "for 文は反復処理を実現します。for 文は次のように書きます。\n",
    "\n",
    "```\n",
    "for 変数名 in 反復するデータ:\n",
    "    処理\n",
    "```\n",
    "\n",
    "Python では C言語 などのプログラミング言語と違い,リストや文字列のシーケンス型について反復処理を行えます。"
   ]
  },
  {
   "cell_type": "code",
   "execution_count": null,
   "id": "5c098580",
   "metadata": {},
   "outputs": [],
   "source": [
    "primes = [2, 3, 5, 7, 11, 13]\n",
    "\n",
    "print(\"素数の先頭6個は\")\n",
    "\n",
    "for prime in primes:\n",
    "    print(prime)"
   ]
  },
  {
   "cell_type": "code",
   "execution_count": null,
   "id": "fc4f3bbc",
   "metadata": {
    "scrolled": true
   },
   "outputs": [],
   "source": [
    "print(\"文字列を1文字ずつ\")\n",
    "\n",
    "for char in \"若鶏の醤油揚げ\":\n",
    "    print(char)"
   ]
  },
  {
   "cell_type": "markdown",
   "id": "e0e5b9b8",
   "metadata": {},
   "source": [
    "`range()`関数を使うと簡単に数列を作ることが出来ます。"
   ]
  },
  {
   "cell_type": "code",
   "execution_count": null,
   "id": "0e85f34f",
   "metadata": {},
   "outputs": [],
   "source": [
    "for i in range(10):\n",
    "    print(i)"
   ]
  }
 ],
 "metadata": {
  "kernelspec": {
   "display_name": "Python 3 (ipykernel)",
   "language": "python",
   "name": "python3"
  },
  "language_info": {
   "codemirror_mode": {
    "name": "ipython",
    "version": 3
   },
   "file_extension": ".py",
   "mimetype": "text/x-python",
   "name": "python",
   "nbconvert_exporter": "python",
   "pygments_lexer": "ipython3",
   "version": "3.10.6"
  }
 },
 "nbformat": 4,
 "nbformat_minor": 5
}
