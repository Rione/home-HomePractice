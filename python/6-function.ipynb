{
 "cells": [
  {
   "cell_type": "markdown",
   "metadata": {},
   "source": [
    "# 関数\n",
    "\n",
    "Python での関数はまとまった処理に名前をつけておき、プログラム中で利用できるようにするものです。同じ処理を複数回記述することを防ぎ、再利用性を高めることが出来ます。\n",
    "\n",
    "Python での関数は\n",
    "- 定義した個数の**引数**をとり\n",
    "- なんらかの**処理**を行う\n",
    "- **返り値**を返す\n",
    "\n",
    "ものです。\n",
    "\n",
    "ここでの **引数** は関数の外部から値を受け取るための特別な変数、またはその変数の値のことで、\n",
    "**返り値** は関数が関数の外部に返す値のことです。\n",
    "\n",
    "これまで登場した関数の例\n",
    "- `print`\n",
    "  - 引数: 文字列や数値など\n",
    "  - 処理: 引数の値を表示する\n",
    "  - 返り値: なし (`None`)\n",
    "- `input`\n",
    "  - 引数: 表示するメッセージ\n",
    "  - 処理: 入力を1行受け取る\n",
    "  - 返り値: 受け取った入力を文字列として返す\n",
    "\n",
    "## 関数定義\n",
    "\n",
    "Python で関数は次のようにして定義します。\n",
    "\n",
    "```\n",
    "def 関数名(仮引数名1, 仮引数名2, ...):\n",
    "    # 処理\n",
    "    return 返り値\n",
    "```\n",
    "\n",
    "Python では関数の中身の部分は if 文や break 文と同様にインデント (字下げ) が必要です。"
   ]
  },
  {
   "cell_type": "code",
   "execution_count": null,
   "metadata": {},
   "outputs": [],
   "source": [
    "# 例: x と y を加算する関数\n",
    "def add(x, y):\n",
    "    return x + y\n",
    "\n",
    "# 例: x * y + z を計算する関数\n",
    "def madd(x, y, z):\n",
    "    return x * y + z"
   ]
  },
  {
   "cell_type": "markdown",
   "metadata": {},
   "source": [
    "関数を定義するだけでは関数の内部の処理は実行されません. 関数を利用するには次の関数適用を行います。\n",
    "\n",
    "## 関数呼び出し\n",
    "\n",
    "関数を利用するには `関数名(実引数1, 実引数2, ...)` のように記述します。"
   ]
  },
  {
   "cell_type": "code",
   "execution_count": null,
   "metadata": {},
   "outputs": [],
   "source": [
    "x = add(2, 3)\n",
    "print(x)\n",
    "\n",
    "y = madd(2, 3, 4)\n",
    "print(y)"
   ]
  },
  {
   "cell_type": "markdown",
   "metadata": {},
   "source": [
    "関数を呼び出すと、関数定義で定義した処理が実行されます。その際に指定した実引数が、仮引数に代入されます。"
   ]
  },
  {
   "cell_type": "code",
   "execution_count": null,
   "metadata": {},
   "outputs": [],
   "source": [
    "# add(2, 3)の呼び出しのイメージ:\n",
    "x = 2\n",
    "y = 3\n",
    "# x + y を返す\n",
    "\n",
    "# madd(2, 3, 4) の呼び出しのイメージ:\n",
    "x = 2\n",
    "y = 3\n",
    "z = 4\n",
    "# x * y + z を返す"
   ]
  },
  {
   "cell_type": "markdown",
   "metadata": {},
   "source": [
    "呼び出した関数が `return` で返り値を返す場合、返り値を `print` 関数で表示したり、変数に代入することが出来ます。"
   ]
  },
  {
   "cell_type": "code",
   "execution_count": null,
   "metadata": {},
   "outputs": [],
   "source": [
    "# add(2, 3) の実行のイメージ:\n",
    "# add(2, 3) →\n",
    "# 5\n",
    "\n",
    "# print(add(2, 3)) の実行のイメージ:\n",
    "# print(add(2, 3)) →\n",
    "# print(5) →\n",
    "# 5 が表示される\n",
    "\n",
    "\n",
    "# x = add(2, add(1, 3)) の実行のイメージ:\n",
    "# x = add(2, add(1, 3)) →\n",
    "# x = add(2, 4) →\n",
    "# x = 6 →\n",
    "# x に 6 が代入される"
   ]
  },
  {
   "cell_type": "markdown",
   "metadata": {},
   "source": [
    "関数は再帰的に呼び出すことが出来ます。階乗 (`n! = 1 * 2 * 3 * ... * n`) を求めるプログラムも作れたりします。"
   ]
  },
  {
   "cell_type": "code",
   "execution_count": null,
   "metadata": {},
   "outputs": [],
   "source": [
    "def factorial(n):\n",
    "    if n <= 0:\n",
    "        return 1\n",
    "    else:\n",
    "        return n * factorial(n - 1)\n",
    "\n",
    "print(factorial(5))"
   ]
  }
 ],
 "metadata": {
  "kernelspec": {
   "display_name": "Python 3 (ipykernel)",
   "language": "python",
   "name": "python3"
  },
  "language_info": {
   "codemirror_mode": {
    "name": "ipython",
    "version": 3
   },
   "file_extension": ".py",
   "mimetype": "text/x-python",
   "name": "python",
   "nbconvert_exporter": "python",
   "pygments_lexer": "ipython3",
   "version": "3.10.6"
  }
 },
 "nbformat": 4,
 "nbformat_minor": 1
}
