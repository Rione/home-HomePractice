{
 "cells": [
  {
   "cell_type": "markdown",
   "id": "cf1eacfd",
   "metadata": {},
   "source": [
    "# print\n",
    "\n",
    "`print()`を用いると数字や文字列を画面に表示することが出来ます。\n",
    "\n",
    "## 文字列の表示\n",
    "\n",
    "\n",
    "`print()`で文字列の表示が出来ます。 Pythonで複数の文を記述するときは改行します。"
   ]
  },
  {
   "cell_type": "code",
   "execution_count": 2,
   "id": "741fce35",
   "metadata": {},
   "outputs": [
    {
     "name": "stdout",
     "output_type": "stream",
     "text": [
      "こんにちは\n",
      "Pythonって便利だね\n"
     ]
    }
   ],
   "source": [
    "print(\"こんにちは\")\n",
    "print(\"Pythonって便利だね\")"
   ]
  },
  {
   "cell_type": "markdown",
   "id": "228092d7",
   "metadata": {},
   "source": [
    "## 数値の表示\n",
    "\n",
    "`print()`で数値の表示も出来ます"
   ]
  },
  {
   "cell_type": "code",
   "execution_count": 4,
   "id": "8de01da7",
   "metadata": {},
   "outputs": [
    {
     "name": "stdout",
     "output_type": "stream",
     "text": [
      "1 + 1は?\n",
      "2\n",
      "2 x 3は?\n",
      "6\n",
      "2の8乗は?\n",
      "256\n"
     ]
    }
   ],
   "source": [
    "print(\"1 + 1は?\")\n",
    "print(1 + 1)\n",
    "print(\"2 x 3は?\")\n",
    "print(2 * 3)\n",
    "print(\"2の8乗は?\")\n",
    "print(2 ** 8)"
   ]
  },
  {
   "cell_type": "markdown",
   "id": "250627eb",
   "metadata": {},
   "source": [
    "## フォーマット\n",
    "\n",
    "`str.format()` 関数を利用すると文字列フォーマット処理ができます。 様々な文字列や数値を1つの文字列に結合できます。"
   ]
  },
  {
   "cell_type": "code",
   "execution_count": null,
   "id": "6ad2bb73",
   "metadata": {},
   "outputs": [],
   "source": [
    "# {} の部分に .format() で指定した文字列や数値が順に入ります\n",
    "print(\"{}と{}\".format(\"バナナ\", \"りんご\"))\n",
    "print(\"{} 足す {} は {}\".format(1, 2, 3))\n",
    "print(\"文字列: {}, 数値: {}\".format(\"文字列\", 123))\n",
    "\n",
    "# {n} とすると, n 番目に指定したものを表示できます\n",
    "print(\"{1} {0} {2}\".format(\"零\", \"一\", \"二\"))\n",
    "print(\"{1} {0} {2} {0}\".format(\"零\", \"一\", \"二\"))"
   ]
  }
 ],
 "metadata": {
  "kernelspec": {
   "display_name": "Python 3 (ipykernel)",
   "language": "python",
   "name": "python3"
  },
  "language_info": {
   "codemirror_mode": {
    "name": "ipython",
    "version": 3
   },
   "file_extension": ".py",
   "mimetype": "text/x-python",
   "name": "python",
   "nbconvert_exporter": "python",
   "pygments_lexer": "ipython3",
   "version": "3.10.6"
  }
 },
 "nbformat": 4,
 "nbformat_minor": 5
}
